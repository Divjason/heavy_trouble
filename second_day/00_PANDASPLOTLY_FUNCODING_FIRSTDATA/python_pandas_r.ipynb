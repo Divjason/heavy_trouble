{
 "cells": [
  {
   "cell_type": "code",
   "execution_count": 2,
   "id": "64f38612-7d22-4b65-b95e-d7a822d2f725",
   "metadata": {},
   "outputs": [],
   "source": [
    "data_file = open(\"00_data/text_data.txt\", \"r\", encoding=\"utf-8-sig\")\n",
    "data_file.close()"
   ]
  },
  {
   "cell_type": "code",
   "execution_count": 5,
   "id": "4f400c62-08cf-49ed-afd8-3dfd6a8329ab",
   "metadata": {},
   "outputs": [
    {
     "name": "stdout",
     "output_type": "stream",
     "text": [
      "['안녕하세요. Dave Lee 입니다.\\n', '본 예제는 Plain Text 파일 예제입니다.\\n', '감사합니다.']\n"
     ]
    }
   ],
   "source": [
    "with open(\"00_data/text_data.txt\", \"r\", encoding=\"utf-8-sig\") as data_file :\n",
    "    data_lines = data_file.readlines()\n",
    "    print(data_lines)"
   ]
  },
  {
   "cell_type": "code",
   "execution_count": 6,
   "id": "8f513903-f632-4dd6-9829-8e33eb9e6d7d",
   "metadata": {},
   "outputs": [
    {
     "data": {
      "text/plain": [
       "['안녕하세요. Dave Lee 입니다.\\n', '본 예제는 Plain Text 파일 예제입니다.\\n', '감사합니다.']"
      ]
     },
     "execution_count": 6,
     "metadata": {},
     "output_type": "execute_result"
    }
   ],
   "source": [
    "data_file = open(\"00_data/text_data.txt\", \"r\", encoding=\"utf-8-sig\")\n",
    "data_lines = data_file.readlines()\n",
    "data_lines"
   ]
  },
  {
   "cell_type": "code",
   "execution_count": 8,
   "id": "96e347d4-0c5e-407d-82a9-51d0d06e807d",
   "metadata": {},
   "outputs": [
    {
     "name": "stdout",
     "output_type": "stream",
     "text": [
      "안녕하세요. Dave Lee 입니다.\n",
      "\n",
      "본 예제는 Plain Text 파일 예제입니다.\n",
      "\n",
      "감사합니다.\n"
     ]
    }
   ],
   "source": [
    "for data_line in data_lines :\n",
    "    print(data_line)\n",
    "data_file.close()"
   ]
  },
  {
   "cell_type": "code",
   "execution_count": 9,
   "id": "2129b60a-d1e5-48bc-a044-13ba579eec37",
   "metadata": {},
   "outputs": [
    {
     "name": "stdout",
     "output_type": "stream",
     "text": [
      "안녕하세요. Dave Lee 입니다.\n",
      "\n"
     ]
    }
   ],
   "source": [
    "data_file = open(\"00_data/text_data.txt\", \"r\", encoding=\"utf-8-sig\")\n",
    "data_line = data_file.readline()\n",
    "print(data_line)"
   ]
  },
  {
   "cell_type": "code",
   "execution_count": 10,
   "id": "7f18d24d-c40e-477b-b276-0002ef53048f",
   "metadata": {},
   "outputs": [
    {
     "name": "stdout",
     "output_type": "stream",
     "text": [
      "본 예제는 Plain Text 파일 예제입니다.\n",
      "\n"
     ]
    }
   ],
   "source": [
    "data_line = data_file.readline()\n",
    "print(data_line)"
   ]
  },
  {
   "cell_type": "code",
   "execution_count": 11,
   "id": "27e9d88a-8657-4c29-8575-63909d83c042",
   "metadata": {},
   "outputs": [
    {
     "name": "stdout",
     "output_type": "stream",
     "text": [
      "감사합니다.\n"
     ]
    }
   ],
   "source": [
    "data_line = data_file.readline()\n",
    "print(data_line)"
   ]
  },
  {
   "cell_type": "code",
   "execution_count": 12,
   "id": "aa9e2a19-f750-40e1-ab08-8a38d2d7ea9d",
   "metadata": {},
   "outputs": [
    {
     "name": "stdout",
     "output_type": "stream",
     "text": [
      "\n"
     ]
    }
   ],
   "source": [
    "data_line = data_file.readline()\n",
    "print(data_line)"
   ]
  },
  {
   "cell_type": "code",
   "execution_count": 14,
   "id": "d4504ed2-7061-45aa-8843-49ce9f8a01d4",
   "metadata": {},
   "outputs": [
    {
     "data": {
      "text/plain": [
       "'안녕하세요. Dave Lee 입니다.\\n본 예제는 Plain Text 파일 예제입니다.\\n감사합니다.'"
      ]
     },
     "execution_count": 14,
     "metadata": {},
     "output_type": "execute_result"
    }
   ],
   "source": [
    "data_file = open(\"00_data/text_data.txt\", \"r\", encoding=\"utf-8-sig\")\n",
    "data = data_file.read()\n",
    "data"
   ]
  }
 ],
 "metadata": {
  "kernelspec": {
   "display_name": "Python [conda env:base] *",
   "language": "python",
   "name": "conda-base-py"
  },
  "language_info": {
   "codemirror_mode": {
    "name": "ipython",
    "version": 3
   },
   "file_extension": ".py",
   "mimetype": "text/x-python",
   "name": "python",
   "nbconvert_exporter": "python",
   "pygments_lexer": "ipython3",
   "version": "3.13.5"
  }
 },
 "nbformat": 4,
 "nbformat_minor": 5
}
