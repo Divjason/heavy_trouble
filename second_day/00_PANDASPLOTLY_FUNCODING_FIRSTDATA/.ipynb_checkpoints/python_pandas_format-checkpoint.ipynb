{
 "cells": [
  {
   "cell_type": "code",
   "execution_count": 1,
   "id": "ce8be74d-5306-4211-ada5-d266a0123579",
   "metadata": {},
   "outputs": [],
   "source": [
    "import csv\n",
    "\n",
    "with open(\"00_data/tmp_csv.csv\", \"w\", encoding=\"utf-8-sig\", newline=\"\") as writer_csv :\n",
    "    field_name_list=[\"First Name\", \"Last Name\"]\n",
    "    writer = csv.DictWriter(writer_csv, fieldnames=field_name_list)\n",
    "    writer.writeheader() # 위 문장에서 선언한 필드명을 실제 csv 파일에 적용하겠다라는 함수\n",
    "    writer.writerow({\"First Name\":\"Dave\", \"Last Name\": \"Lee\"})\n",
    "    writer.writerow({\"First Name\":\"David\", \"Last Name\": \"Park\"})\n",
    "    writer.writerow({\"First Name\":\"Robin\", \"Last Name\": \"Kim\"})"
   ]
  },
  {
   "cell_type": "code",
   "execution_count": 5,
   "id": "249a4d85-86e8-48cf-8522-d390f99e9753",
   "metadata": {},
   "outputs": [
    {
     "name": "stdout",
     "output_type": "stream",
     "text": [
      "Dave Lee\n",
      "David Park\n",
      "Robin Kim\n"
     ]
    }
   ],
   "source": [
    "import csv\n",
    "\n",
    "with open(\"00_data/tmp_csv.csv\", \"r\", encoding=\"utf-8-sig\") as reader_csv :\n",
    "    reader = csv.DictReader(reader_csv)\n",
    "    for row in reader :\n",
    "        print(row[\"First Name\"], row[\"Last Name\"])"
   ]
  },
  {
   "cell_type": "code",
   "execution_count": 11,
   "id": "22f4a79d-ba80-4d27-a175-a2ab0d3b034a",
   "metadata": {},
   "outputs": [
    {
     "name": "stdout",
     "output_type": "stream",
     "text": [
      "이름 : 잔재미코딩\n",
      "이름 : Dave Lee\n"
     ]
    }
   ],
   "source": [
    "from bs4 import BeautifulSoup\n",
    "\n",
    "data_file = open(\"00_data/users.xml\", \"r\", encoding=\"utf-8-sig\")\n",
    "soup = BeautifulSoup(data_file, \"xml\")\n",
    "\n",
    "users = soup.select(\"user\") # 해당 문서 안에 동일한 태그를 모두 찾아와서 리스트형태의 타입\n",
    "# users = soup.select_one(\"user\") # 해당 문서 안에 가장 첫번째로 검색된 태그만 찾아와서 리스트형태의 타입\n",
    "\n",
    "for user in users :\n",
    "    print(f\"이름 : {user.select_one(\"name\").text}\")"
   ]
  },
  {
   "cell_type": "code",
   "execution_count": 15,
   "id": "fc88da31-9f90-4989-90e3-4bb2099ed318",
   "metadata": {},
   "outputs": [
    {
     "name": "stdout",
     "output_type": "stream",
     "text": [
      "ai\n",
      "airbnb\n",
      "ai studio\n",
      "ai 검사기\n",
      "ai스튜디오\n",
      "ai 얼굴평가\n",
      "ai디지털교과서\n",
      "ai 이미지 생성\n",
      "ai모드\n",
      "ai 채팅\n"
     ]
    }
   ],
   "source": [
    "import requests\n",
    "from bs4 import BeautifulSoup\n",
    "\n",
    "keyword = \"ai\"\n",
    "google_related_keyword_api = f\"https://suggestqueries.google.com/complete/search?output=toolbar&q={keyword}\"\n",
    "response = requests.get(google_related_keyword_api)\n",
    "soup = BeautifulSoup(response.content, \"xml\")\n",
    "\n",
    "dataxml = soup.select(\"suggestion\")\n",
    "\n",
    "for item in dataxml :\n",
    "    print(item[\"data\"])"
   ]
  },
  {
   "cell_type": "code",
   "execution_count": 34,
   "id": "1d4df8c6-8bb0-4232-921e-db711e2988cf",
   "metadata": {},
   "outputs": [
    {
     "name": "stdout",
     "output_type": "stream",
     "text": [
      "01 python third <class 'dict'>\n"
     ]
    }
   ],
   "source": [
    "import json\n",
    "\n",
    "data = '{\"id\": \"01\",\"language\": \"python\",\"edition\": \"third\",\"author\": \"David\"}'\n",
    "\n",
    "jsondata = json.loads(data) # 파이썬 셀 혹은 에디터를 통해서 직접 문자열 형태의 제이슨 문서를 로드해오고자 할 때\n",
    "print(jsondata[\"id\"], jsondata[\"language\"], jsondata[\"edition\"], type(jsondata))\n",
    "\n",
    "# 01. 최초에 웹 이라는 생태계가 탄생 -> JS\n",
    "# 02. 클라이언트 & 서버의 통신 -> JSON\n",
    "# 03. 딕셔너리 자료구조 -> dict"
   ]
  },
  {
   "cell_type": "code",
   "execution_count": 31,
   "id": "01de0873-230d-4943-a5cb-2bc898f2960d",
   "metadata": {},
   "outputs": [
    {
     "name": "stdout",
     "output_type": "stream",
     "text": [
      "{\"id\": \"01\", \"language\": {\"python\": \"basic\", \"Java\": \"advanced\"}, \"edition\": \"third\", \"author\": \"David\"} <class 'str'>\n",
      "{\n",
      "  \"id\": \"01\",\n",
      "  \"language\": {\n",
      "    \"python\": \"basic\",\n",
      "    \"Java\": \"advanced\"\n",
      "  },\n",
      "  \"edition\": \"third\",\n",
      "  \"author\": \"David\"\n",
      "} <class 'str'>\n"
     ]
    }
   ],
   "source": [
    "import json\n",
    "\n",
    "data = {\"id\": \"01\",\"language\": {\"python\": \"basic\", \"Java\": \"advanced\"},\"edition\": \"third\",\"author\": \"David\"}\n",
    "\n",
    "jsondata = json.dumps(data) # dumps함수는 loads와 달리 로컬에서 가져오고자 하는 json값에 문자열 처리를 굳이 하지 않아도 됨!\n",
    "print(jsondata, type(jsondata))\n",
    "\n",
    "jsondata02 = json.dumps(data, indent=2)\n",
    "print(jsondata02, type(jsondata02))"
   ]
  },
  {
   "cell_type": "code",
   "execution_count": 35,
   "id": "8c6407ca-f0a7-428d-a0bf-5f217ad64520",
   "metadata": {},
   "outputs": [],
   "source": [
    "import json\n",
    "\n",
    "data = {\"id\": \"01\", \"language\": \"python\", \"edition\": \"third\", \"author\": \"David\"}\n",
    "data[\"language\"] = [\"python\", \"Java\"]\n",
    "\n",
    "with open(\"00_data/test.json\", \"w\", encoding=\"utf-8-sig\") as json_file :\n",
    "    json_string = json.dump(data, json_file, indent=2)"
   ]
  },
  {
   "cell_type": "code",
   "execution_count": 2,
   "id": "dbabba54-c1d2-429e-a2e6-645935ad323e",
   "metadata": {},
   "outputs": [
    {
     "name": "stdout",
     "output_type": "stream",
     "text": [
      "dict_keys(['kind', 'etag', 'items'])\n"
     ]
    }
   ],
   "source": [
    "import json\n",
    "\n",
    "with open(\"00_data/US_category_id.json\", \"r\", encoding=\"utf-8-sig\") as json_file :\n",
    "    json_data = json.load(json_file) # 로컬 컴퓨터 내 json 이라는 파일 포맷으로 되어있는 데이터를 찾아올 때\n",
    "    print(json_data.keys())"
   ]
  },
  {
   "cell_type": "code",
   "execution_count": null,
   "id": "373cfb05-4418-4b55-8b0f-88ae2a0767b3",
   "metadata": {},
   "outputs": [],
   "source": []
  },
  {
   "cell_type": "code",
   "execution_count": null,
   "id": "744023e5-3a3f-401d-9980-b644597c258c",
   "metadata": {},
   "outputs": [],
   "source": []
  },
  {
   "cell_type": "code",
   "execution_count": 7,
   "id": "9b390af4-83b3-4f09-aa55-c5a6944d2414",
   "metadata": {},
   "outputs": [
    {
     "name": "stdout",
     "output_type": "stream",
     "text": [
      "youtube#videoCategory Film & Animation\n",
      "youtube#videoCategory Autos & Vehicles\n",
      "youtube#videoCategory Music\n",
      "youtube#videoCategory Pets & Animals\n",
      "youtube#videoCategory Sports\n",
      "youtube#videoCategory Short Movies\n",
      "youtube#videoCategory Travel & Events\n",
      "youtube#videoCategory Gaming\n",
      "youtube#videoCategory Videoblogging\n",
      "youtube#videoCategory People & Blogs\n",
      "youtube#videoCategory Comedy\n",
      "youtube#videoCategory Entertainment\n",
      "youtube#videoCategory News & Politics\n",
      "youtube#videoCategory Howto & Style\n",
      "youtube#videoCategory Education\n",
      "youtube#videoCategory Science & Technology\n",
      "youtube#videoCategory Nonprofits & Activism\n",
      "youtube#videoCategory Movies\n",
      "youtube#videoCategory Anime/Animation\n",
      "youtube#videoCategory Action/Adventure\n",
      "youtube#videoCategory Classics\n",
      "youtube#videoCategory Comedy\n",
      "youtube#videoCategory Documentary\n",
      "youtube#videoCategory Drama\n",
      "youtube#videoCategory Family\n",
      "youtube#videoCategory Foreign\n",
      "youtube#videoCategory Horror\n",
      "youtube#videoCategory Sci-Fi/Fantasy\n",
      "youtube#videoCategory Thriller\n",
      "youtube#videoCategory Shorts\n",
      "youtube#videoCategory Shows\n",
      "youtube#videoCategory Trailers\n"
     ]
    }
   ],
   "source": [
    "import json\n",
    "\n",
    "with open(\"00_data/US_category_id.json\", \"r\", encoding=\"utf-8-sig\") as json_file :\n",
    "    json_data = json.load(json_file) # 로컬 컴퓨터 내 json 이라는 파일 포맷으로 되어있는 데이터를 찾아올 때\n",
    "    for item in json_data[\"items\"] :\n",
    "        print(item[\"kind\"], item[\"snippet\"][\"title\"])"
   ]
  },
  {
   "cell_type": "code",
   "execution_count": null,
   "id": "c2f16e4c-02fa-47b2-bf16-3164d5f8c01b",
   "metadata": {},
   "outputs": [],
   "source": []
  },
  {
   "cell_type": "code",
   "execution_count": null,
   "id": "b6c57dde-8595-4937-873c-a6e31db3c4db",
   "metadata": {},
   "outputs": [],
   "source": []
  },
  {
   "cell_type": "code",
   "execution_count": null,
   "id": "1e8d90e1-d570-4392-9123-83d979d7656a",
   "metadata": {},
   "outputs": [],
   "source": []
  },
  {
   "cell_type": "code",
   "execution_count": null,
   "id": "b0d654a4-38b2-4829-acbd-f5043567244d",
   "metadata": {},
   "outputs": [],
   "source": []
  },
  {
   "cell_type": "code",
   "execution_count": null,
   "id": "f38c69c8-afe9-4ea1-bc13-0e2c9331cf4a",
   "metadata": {},
   "outputs": [],
   "source": []
  }
 ],
 "metadata": {
  "kernelspec": {
   "display_name": "Python [conda env:base] *",
   "language": "python",
   "name": "conda-base-py"
  },
  "language_info": {
   "codemirror_mode": {
    "name": "ipython",
    "version": 3
   },
   "file_extension": ".py",
   "mimetype": "text/x-python",
   "name": "python",
   "nbconvert_exporter": "python",
   "pygments_lexer": "ipython3",
   "version": "3.13.5"
  }
 },
 "nbformat": 4,
 "nbformat_minor": 5
}
